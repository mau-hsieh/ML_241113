{
 "cells": [
  {
   "cell_type": "code",
   "execution_count": 6,
   "metadata": {},
   "outputs": [
    {
     "data": {
      "image/png": "[encoded data removed]",
      "text/plain": [
       "<Figure size 640x480 with 1 Axes>"
      ]
     },
     "metadata": {},
     "output_type": "display_data"
    },
    {
     "data": {
      "text/plain": [
       "(None, (140, 140))"
      ]
     },
     "execution_count": 6,
     "metadata": {},
     "output_type": "execute_result"
    }
   ],
   "source": [
    "import cv2\n",
    "import matplotlib.pyplot as plt\n",
    "\n",
    "# 加載用戶上傳的圖像\n",
    "image_path = 'database02/02.png'\n",
    "image = cv2.imread(image_path, cv2.IMREAD_GRAYSCALE)\n",
    "\n",
    "# 查看圖像屬性並顯示原始圖像\n",
    "image_shape = image.shape\n",
    "\n",
    "# 顯示原始圖像\n",
    "plt.imshow(image, cmap='gray')\n",
    "plt.title(\"Original Image\")\n",
    "plt.axis(\"off\")\n",
    "plt.show(), image_shape\n"
   ]
  },
  {
   "cell_type": "code",
   "execution_count": 7,
   "metadata": {},
   "outputs": [
    {
     "data": {
      "image/png": "[encoded data removed]",
      "text/plain": [
       "<Figure size 640x480 with 1 Axes>"
      ]
     },
     "metadata": {},
     "output_type": "display_data"
    },
    {
     "data": {
      "text/plain": [
       "array([  0, 255, 255, 255, 255,   0, 255, 255, 255, 255, 255, 255,   0,\n",
       "         0,   0,   0,   0, 255,   0,   0,   0,   0,   0, 255,   0,   0,\n",
       "         0,   0,   0, 255,   0,   0,   0,   0, 255, 255,   0,   0,   0,\n",
       "       255, 255,   0,   0,   0, 255, 255,   0,   0,   0, 255, 255, 255,\n",
       "       255, 255], dtype=uint8)"
      ]
     },
     "execution_count": 7,
     "metadata": {},
     "output_type": "execute_result"
    }
   ],
   "source": [
    "# 找到圖像中的前景（白色部分）的邊界\n",
    "x, y, w, h = cv2.boundingRect(image)\n",
    "\n",
    "# 裁剪出圖像中的數字部分\n",
    "cropped_image = image[y:y+h, x:x+w]\n",
    "\n",
    "# 將裁剪的圖像調整為 9x6 大小\n",
    "resized_image = cv2.resize(cropped_image, (6, 9), interpolation=cv2.INTER_NEAREST)\n",
    "\n",
    "# 顯示處理後的圖像\n",
    "plt.imshow(resized_image, cmap='gray')\n",
    "plt.title(\"Processed Image (9x6)\")\n",
    "plt.axis(\"off\")\n",
    "plt.show()\n",
    "\n",
    "# 展平成向量\n",
    "flattened_image = resized_image.flatten()\n",
    "flattened_image\n"
   ]
  },
  {
   "cell_type": "code",
   "execution_count": 8,
   "metadata": {},
   "outputs": [
    {
     "name": "stdout",
     "output_type": "stream",
     "text": [
      "Processed database02\\00.png: [  0   0   0 255   0   0   0 255 255   0 255 255   0 255   0   0   0 255\n",
      " 255   0   0   0   0   0 255   0   0   0   0   0 255   0   0   0   0   0\n",
      " 255   0   0   0   0   0   0 255   0   0   0 255   0   0 255   0   0 255]\n",
      "Processed database02\\01.png: [  0   0 255 255 255   0 255 255 255 255 255 255 255 255 255 255 255 255\n",
      " 255 255 255 255 255 255 255 255 255 255 255 255 255 255 255 255 255 255\n",
      " 255 255 255 255 255 255 255 255 255 255 255 255 255 255 255 255 255 255]\n",
      "Processed database02\\02.png: [  0 255 255 255 255   0 255 255 255 255 255 255   0   0   0   0   0 255\n",
      "   0   0   0   0   0 255   0   0   0   0   0 255   0   0   0   0 255 255\n",
      "   0   0   0 255 255   0   0   0 255 255   0   0   0 255 255 255 255 255]\n",
      "Processed database02\\03.png: [  0 255 255 255 255   0   0 255 255 255 255   0   0   0   0   0   0 255\n",
      "   0   0   0 255 255 255   0 255 255 255 255 255   0   0   0   0   0 255\n",
      "   0   0   0   0   0 255   0 255   0   0   0 255   0 255 255 255 255 255]\n",
      "Processed database02\\04.png: [  0   0   0 255   0   0   0   0   0 255   0 255   0   0 255   0 255   0\n",
      "   0   0 255   0 255   0   0 255   0   0 255   0 255 255 255 255 255 255\n",
      "   0   0   0   0 255   0   0   0   0 255   0   0   0   0   0 255   0   0]\n",
      "Processed database02\\05.png: [  0 255   0   0   0   0 255 255 255 255 255 255 255 255   0   0   0   0\n",
      " 255 255   0   0   0   0 255 255 255 255 255 255   0   0   0   0   0 255\n",
      "   0   0   0   0   0 255   0 255   0   0   0 255   0 255 255 255 255 255]\n",
      "Processed database02\\06.png: [  0   0   0   0   0   0   0   0   0 255   0   0   0   0 255   0   0   0\n",
      "   0 255 255   0   0   0   0 255   0   0   0   0   0 255 255 255 255 255\n",
      " 255 255   0   0   0 255 255 255   0   0   0 255   0 255 255 255 255 255]\n",
      "Processed database02\\07.png: [  0 255 255 255 255 255 255 255   0   0   0 255   0 255   0   0   0 255\n",
      "   0   0 255   0 255   0   0   0   0   0 255   0   0   0   0 255   0   0\n",
      "   0   0   0 255   0   0   0   0 255   0   0   0   0   0 255   0   0   0]\n",
      "Processed database02\\08.png: [  0 255 255 255   0   0 255 255 255 255 255 255 255 255   0   0   0 255\n",
      " 255 255   0 255 255 255   0 255 255 255 255   0   0 255 255 255 255 255\n",
      "   0 255   0   0   0 255   0 255   0   0   0 255   0 255 255 255 255 255]\n",
      "Processed database02\\09.png: [  0   0 255 255   0   0   0 255 255 255 255 255 255 255   0   0   0 255\n",
      " 255 255   0   0 255 255   0   0 255 255 255 255   0   0   0   0   0 255\n",
      "   0   0   0   0   0 255   0   0   0   0   0 255   0   0   0   0   0 255]\n"
     ]
    }
   ],
   "source": [
    "import cv2\n",
    "import numpy as np\n",
    "import os\n",
    "\n",
    "# 定義文件夾路徑\n",
    "folder_path = \"database02\"\n",
    "\n",
    "# 定義處理圖像的函數\n",
    "def process_image(image_path):\n",
    "    # 讀取圖像\n",
    "    image = cv2.imread(image_path, cv2.IMREAD_GRAYSCALE)\n",
    "\n",
    "    # 將圖像二值化為黑白\n",
    "    _, binary_image = cv2.threshold(image, 127, 255, cv2.THRESH_BINARY)\n",
    "\n",
    "    # 找到圖像中的前景（白色部分）的邊界\n",
    "    x, y, w, h = cv2.boundingRect(binary_image)\n",
    "\n",
    "    # 裁剪出圖像中的數字部分\n",
    "    cropped_image = binary_image[y:y+h, x:x+w]\n",
    "\n",
    "    # 將裁剪的圖像調整為 9x6 大小\n",
    "    resized_image = cv2.resize(cropped_image, (6, 9), interpolation=cv2.INTER_NEAREST)\n",
    "\n",
    "    # 展平成向量\n",
    "    flattened_image = resized_image.flatten()\n",
    "\n",
    "    return flattened_image\n",
    "\n",
    "# 處理文件夾中的每張圖像\n",
    "processed_images = []\n",
    "for i in range(0, 10):  # 假設文件名為 01.png 到 09.png\n",
    "    image_path = os.path.join(folder_path, f\"{i:02}.png\")\n",
    "    if os.path.exists(image_path):\n",
    "        flattened_image = process_image(image_path)\n",
    "        processed_images.append(flattened_image)\n",
    "        print(f\"Processed {image_path}: {flattened_image}\")\n",
    "    else:\n",
    "        print(f\"File {image_path} does not exist.\")\n",
    "\n",
    "# processed_images 包含所有處理後的圖像向量\n"
   ]
  },
  {
   "cell_type": "code",
   "execution_count": 9,
   "metadata": {},
   "outputs": [
    {
     "name": "stdout",
     "output_type": "stream",
     "text": [
      "Processed and saved database02\\00.png to database02/train\\00.npy\n",
      "Processed and saved database02\\01.png to database02/train\\01.npy\n",
      "Processed and saved database02\\02.png to database02/train\\02.npy\n",
      "Processed and saved database02\\03.png to database02/train\\03.npy\n",
      "Processed and saved database02\\04.png to database02/train\\04.npy\n",
      "Processed and saved database02\\05.png to database02/train\\05.npy\n",
      "Processed and saved database02\\06.png to database02/train\\06.npy\n",
      "Processed and saved database02\\07.png to database02/train\\07.npy\n",
      "Processed and saved database02\\08.png to database02/train\\08.npy\n",
      "Processed and saved database02\\09.png to database02/train\\09.npy\n"
     ]
    }
   ],
   "source": [
    "#training data\n",
    "import cv2\n",
    "import numpy as np\n",
    "import os\n",
    "\n",
    "# 定義文件夾路徑\n",
    "input_folder_path = \"database02\"\n",
    "output_folder_path = \"database02/train\"\n",
    "\n",
    "# 創建輸出文件夾（如果不存在）\n",
    "os.makedirs(output_folder_path, exist_ok=True)\n",
    "\n",
    "# 定義處理圖像的函數\n",
    "def process_image(image_path):\n",
    "    # 讀取圖像\n",
    "    image = cv2.imread(image_path, cv2.IMREAD_GRAYSCALE)\n",
    "\n",
    "    # 將圖像二值化為黑白\n",
    "    _, binary_image = cv2.threshold(image, 127, 255, cv2.THRESH_BINARY)\n",
    "\n",
    "    # 找到圖像中的前景（白色部分）的邊界\n",
    "    x, y, w, h = cv2.boundingRect(binary_image)\n",
    "\n",
    "    # 裁剪出圖像中的數字部分\n",
    "    cropped_image = binary_image[y:y+h, x:x+w]\n",
    "\n",
    "    # 將裁剪的圖像調整為 9x6 大小\n",
    "    resized_image = cv2.resize(cropped_image, (6, 9), interpolation=cv2.INTER_NEAREST)\n",
    "\n",
    "    # 展平成向量\n",
    "    flattened_image = resized_image.flatten()\n",
    "\n",
    "    return flattened_image\n",
    "\n",
    "# 處理文件夾中的每張圖像並保存\n",
    "for i in range(0, 10):  # 假設文件名為 01.png 到 09.png\n",
    "    image_path = os.path.join(input_folder_path, f\"{i:02}.png\")\n",
    "    output_path = os.path.join(output_folder_path, f\"{i:02}.npy\")\n",
    "    \n",
    "    if os.path.exists(image_path):\n",
    "        flattened_image = process_image(image_path)\n",
    "        # 將處理後的向量保存為 .npy 文件\n",
    "        np.save(output_path, flattened_image)\n",
    "        print(f\"Processed and saved {image_path} to {output_path}\")\n",
    "    else:\n",
    "        print(f\"File {image_path} does not exist.\")\n"
   ]
  },
  {
   "cell_type": "code",
   "execution_count": null,
   "metadata": {},
   "outputs": [
    {
     "name": "stdout",
     "output_type": "stream",
     "text": [
      "Processed and saved database02\\00_02.png to database02/test\\00.npy\n",
      "Processed and saved database02\\01_02.png to database02/test\\01.npy\n",
      "Processed and saved database02\\02_02.png to database02/test\\02.npy\n",
      "Processed and saved database02\\03_02.png to database02/test\\03.npy\n",
      "Processed and saved database02\\04_02.png to database02/test\\04.npy\n",
      "Processed and saved database02\\05_02.png to database02/test\\05.npy\n",
      "Processed and saved database02\\06_02.png to database02/test\\06.npy\n",
      "Processed and saved database02\\07_02.png to database02/test\\07.npy\n",
      "Processed and saved database02\\08_02.png to database02/test\\08.npy\n",
      "Processed and saved database02\\09_02.png to database02/test\\09.npy\n"
     ]
    }
   ],
   "source": [
    "# test\n",
    "import cv2\n",
    "import numpy as np\n",
    "import os\n",
    "# 定義文件夾路徑\n",
    "input_folder_path = \"database02\"\n",
    "output_folder_path = \"database02/test\"\n",
    "# 創建輸出文件夾（如果不存在）\n",
    "os.makedirs(output_folder_path, exist_ok=True)\n",
    "# 定義處理圖像的函數\n",
    "def process_image(image_path):\n",
    "    # 讀取圖像\n",
    "    image = cv2.imread(image_path, cv2.IMREAD_GRAYSCALE)\n",
    "\n",
    "    # 將圖像二值化為黑白\n",
    "    _, binary_image = cv2.threshold(image, 127, 255, cv2.THRESH_BINARY)\n",
    "\n",
    "    # 找到圖像中的前景（白色部分）的邊界\n",
    "    x, y, w, h = cv2.boundingRect(binary_image)\n",
    "\n",
    "    # 裁剪出圖像中的數字部分\n",
    "    cropped_image = binary_image[y:y+h, x:x+w]\n",
    "\n",
    "    # 將裁剪的圖像調整為 9x6 大小\n",
    "    resized_image = cv2.resize(cropped_image, (6, 9), interpolation=cv2.INTER_NEAREST)\n",
    "\n",
    "    # 展平成向量\n",
    "    flattened_image = resized_image.flatten()\n",
    "\n",
    "    return flattened_image\n",
    "# 處理文件夾中的每張圖像並保存\n",
    "for i in range(0, 10):  # 假設文件名為 01.png 到 09.png\n",
    "    image_path = os.path.join(input_folder_path, f\"{i:02}_02.png\")\n",
    "    output_path = os.path.join(output_folder_path, f\"{i:02}.npy\")    \n",
    "    if os.path.exists(image_path):\n",
    "        flattened_image = process_image(image_path)\n",
    "        # 將處理後的向量保存為 .npy 文件\n",
    "        np.save(output_path, flattened_image)\n",
    "        print(f\"Processed and saved {image_path} to {output_path}\")\n",
    "    else:\n",
    "        print(f\"File {image_path} does not exist.\")\n"
   ]
  },
  {
   "cell_type": "code",
   "execution_count": 32,
   "metadata": {},
   "outputs": [
    {
     "name": "stdout",
     "output_type": "stream",
     "text": [
      "Loaded data from 01.npy: [  0   0 255 255 255   0 255 255 255 255 255 255 255 255 255 255 255 255\n",
      " 255 255 255 255 255 255 255 255 255 255 255 255 255 255 255 255 255 255\n",
      " 255 255 255 255 255 255 255 255 255 255 255 255 255 255 255 255 255 255]\n",
      "Data shape: (54,)\n"
     ]
    }
   ],
   "source": [
    "import numpy as np\n",
    "import os\n",
    "\n",
    "# 指定文件路徑\n",
    "file_path = \"database02/train/01.npy\"\n",
    "\n",
    "# 檢查文件是否存在並加載\n",
    "if os.path.exists(file_path):\n",
    "    loaded_data = np.load(file_path)\n",
    "    print(\"Loaded data from 01.npy:\", loaded_data)\n",
    "    print(\"Data shape:\", loaded_data.shape)\n",
    "else:\n",
    "    print(f\"File {file_path} does not exist.\")\n"
   ]
  },
  {
   "cell_type": "code",
   "execution_count": 33,
   "metadata": {},
   "outputs": [
    {
     "data": {
      "image/png": "[encoded data removed]",
      "text/plain": [
       "<Figure size 640x480 with 1 Axes>"
      ]
     },
     "metadata": {},
     "output_type": "display_data"
    }
   ],
   "source": [
    "import numpy as np\n",
    "import matplotlib.pyplot as plt\n",
    "import os\n",
    "\n",
    "# 指定文件路徑\n",
    "file_path = \"database02/train/05.npy\"\n",
    "\n",
    "# 檢查文件是否存在並加載\n",
    "if os.path.exists(file_path):\n",
    "    # 加載展平的圖像數據\n",
    "    loaded_data = np.load(file_path)\n",
    "    \n",
    "    # 重塑數據為 9x6 圖像格式\n",
    "    reshaped_image = loaded_data.reshape((9, 6))\n",
    "    \n",
    "    # 顯示圖像\n",
    "    plt.imshow(reshaped_image, cmap='gray')\n",
    "    plt.title(\"Reconstructed Image from 01.npy\")\n",
    "    plt.axis(\"off\")  # 隱藏坐標軸\n",
    "    plt.show()\n",
    "else:\n",
    "    print(f\"File {file_path} does not exist.\")\n"
   ]
  },
  {
   "cell_type": "code",
   "execution_count": 10,
   "metadata": {},
   "outputs": [
    {
     "data": {
      "image/png": "[encoded data removed]",
      "text/plain": [
       "<Figure size 1000x400 with 10 Axes>"
      ]
     },
     "metadata": {},
     "output_type": "display_data"
    }
   ],
   "source": [
    "import numpy as np\n",
    "import matplotlib.pyplot as plt\n",
    "import os\n",
    "\n",
    "# 定義文件夾路徑\n",
    "folder_path = \"database02/train\"\n",
    "\n",
    "# 創建一個子圖，兩行並排顯示 00.npy 到 09.npy 的圖像\n",
    "fig, axes = plt.subplots(2, 5, figsize=(10, 4))  # 2 行 5 列\n",
    "\n",
    "for i in range(10):\n",
    "    file_path = os.path.join(folder_path, f\"{i:02}.npy\")\n",
    "    ax = axes[i // 5, i % 5]  # 確定子圖的位置\n",
    "    \n",
    "    if os.path.exists(file_path):\n",
    "        # 加載展平的圖像數據\n",
    "        loaded_data = np.load(file_path)\n",
    "        \n",
    "        # 重塑數據為 9x6 圖像格式\n",
    "        reshaped_image = loaded_data.reshape((9, 6))\n",
    "        \n",
    "        # 顯示圖像\n",
    "        ax.imshow(reshaped_image, cmap='gray')\n",
    "        ax.set_title(f\"{i:02}.npy\")\n",
    "        ax.axis(\"off\")  # 隱藏坐標軸\n",
    "    else:\n",
    "        print(f\"File {file_path} does not exist.\")\n",
    "\n",
    "# 調整布局並顯示所有圖像\n",
    "plt.tight_layout()\n",
    "plt.show()\n"
   ]
  },
  {
   "cell_type": "code",
   "execution_count": 11,
   "metadata": {},
   "outputs": [
    {
     "data": {
      "image/png": "[encoded data removed]",
      "text/plain": [
       "<Figure size 1000x400 with 10 Axes>"
      ]
     },
     "metadata": {},
     "output_type": "display_data"
    }
   ],
   "source": [
    "import numpy as np\n",
    "import matplotlib.pyplot as plt\n",
    "import os\n",
    "\n",
    "# 定義文件夾路徑\n",
    "folder_path = \"database02/test\"\n",
    "\n",
    "# 創建一個子圖，兩行並排顯示 00.npy 到 09.npy 的圖像\n",
    "fig, axes = plt.subplots(2, 5, figsize=(10, 4))  # 2 行 5 列\n",
    "\n",
    "for i in range(10):\n",
    "    file_path = os.path.join(folder_path, f\"{i:02}.npy\")\n",
    "    ax = axes[i // 5, i % 5]  # 確定子圖的位置\n",
    "    \n",
    "    if os.path.exists(file_path):\n",
    "        # 加載展平的圖像數據\n",
    "        loaded_data = np.load(file_path)\n",
    "        \n",
    "        # 重塑數據為 9x6 圖像格式\n",
    "        reshaped_image = loaded_data.reshape((9, 6))\n",
    "        \n",
    "        # 顯示圖像\n",
    "        ax.imshow(reshaped_image, cmap='gray')\n",
    "        ax.set_title(f\"{i:02}.npy\")\n",
    "        ax.axis(\"off\")  # 隱藏坐標軸\n",
    "    else:\n",
    "        print(f\"File {file_path} does not exist.\")\n",
    "\n",
    "# 調整布局並顯示所有圖像\n",
    "plt.tight_layout()\n",
    "plt.show()\n"
   ]
  }
 ],
 "metadata": {
  "kernelspec": {
   "display_name": "math",
   "language": "python",
   "name": "python3"
  },
  "language_info": {
   "codemirror_mode": {
    "name": "ipython",
    "version": 3
   },
   "file_extension": ".py",
   "mimetype": "text/x-python",
   "name": "python",
   "nbconvert_exporter": "python",
   "pygments_lexer": "ipython3",
   "version": "3.11.7"
  }
 },
 "nbformat": 4,
 "nbformat_minor": 2
}
